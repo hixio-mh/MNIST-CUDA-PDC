{
 "cells": [
  {
   "cell_type": "code",
   "execution_count": 0,
   "metadata": {
    "colab": {},
    "colab_type": "code",
    "id": "8iSj0t-HvSY4"
   },
   "outputs": [],
   "source": [
    "import torch\n",
    "from torch.autograd import Variable\n",
    "import torch.nn as nn\n",
    "\n",
    "import numpy"
   ]
  },
  {
   "cell_type": "code",
   "execution_count": 0,
   "metadata": {
    "colab": {},
    "colab_type": "code",
    "id": "G_rMEpSbw2b1"
   },
   "outputs": [],
   "source": [
    "class NeuralNetwork(nn.Module):\n",
    "\n",
    "    def __init__(self, inodes, hnodes, onodes, learning_rate):\n",
    "        super().__init__()\n",
    "        \n",
    "        self.inodes = inodes\n",
    "        self.hnodes = hnodes\n",
    "        self.onodes = onodes\n",
    "        \n",
    "       \n",
    "        self.lr = learning_rate\n",
    " \n",
    "        self.linear_ih = nn.Linear(inodes, hnodes, bias=False)\n",
    "        self.linear_ho = nn.Linear(hnodes, onodes, bias=False)\n",
    "        \n",
    "        self.activation = nn.Sigmoid()\n",
    "        self.error_function = torch.nn.MSELoss(size_average=False)\n",
    "        self.optimiser = torch.optim.SGD(self.parameters(), self.lr)\n",
    "\n",
    "        pass\n",
    "\n",
    "    \n",
    "    def forward(self, inputs_list):\n",
    "        inputs = Variable(torch.FloatTensor(inputs_list).view(1, self.inodes))\n",
    "        \n",
    "        hidden_inputs = self.linear_ih(inputs)\n",
    "        hidden_outputs = self.activation(hidden_inputs)\n",
    "        final_inputs = self.linear_ho(hidden_outputs)\n",
    "        final_outputs = self.activation(final_inputs)\n",
    "        \n",
    "        return final_outputs\n",
    "\n",
    "    \n",
    "    def train(self, inputs_list, targets_list):\n",
    "    \n",
    "        output = self.forward(inputs_list)\n",
    "        target_variable = Variable(torch.FloatTensor(targets_list).view(1, self.onodes), requires_grad=False)\n",
    "     \n",
    "        loss = self.error_function(output, target_variable)\n",
    "        self.optimiser.zero_grad()\n",
    "        loss.backward()\n",
    "        self.optimiser.step()\n",
    "        pass\n",
    "\n",
    "    pass"
   ]
  },
  {
   "cell_type": "code",
   "execution_count": 0,
   "metadata": {
    "colab": {
     "base_uri": "https://localhost:8080/",
     "height": 153
    },
    "colab_type": "code",
    "id": "9vevbDtXw5ES",
    "outputId": "ec26842a-9ee3-4925-a6e1-1b9b12145f91"
   },
   "outputs": [
    {
     "name": "stderr",
     "output_type": "stream",
     "text": [
      "/usr/local/lib/python3.6/dist-packages/torch/nn/_reduction.py:43: UserWarning: size_average and reduce args will be deprecated, please use reduction='sum' instead.\n",
      "  warnings.warn(warning.format(ret))\n"
     ]
    },
    {
     "data": {
      "text/plain": [
       "NeuralNetwork(\n",
       "  (linear_ih): Linear(in_features=784, out_features=200, bias=False)\n",
       "  (linear_ho): Linear(in_features=200, out_features=10, bias=False)\n",
       "  (activation): Sigmoid()\n",
       "  (error_function): MSELoss()\n",
       ")"
      ]
     },
     "execution_count": 23,
     "metadata": {
      "tags": []
     },
     "output_type": "execute_result"
    }
   ],
   "source": [
    "input_nodes = 784\n",
    "hidden_nodes = 200\n",
    "output_nodes = 10\n",
    "\n",
    "learning_rate = 0.1\n",
    "n = NeuralNetwork(input_nodes,hidden_nodes,output_nodes, learning_rate)\n",
    "\n",
    "\n",
    "\n"
   ]
  },
  {
   "cell_type": "code",
   "execution_count": 0,
   "metadata": {
    "colab": {},
    "colab_type": "code",
    "id": "twMkNlNJxA1Z"
   },
   "outputs": [],
   "source": [
    "training_data_file = open(\"/content/drive/My Drive/mnist/mnist_train.csv\", 'r')\n",
    "training_data_list = training_data_file.readlines()\n",
    "training_data_file.close()"
   ]
  },
  {
   "cell_type": "code",
   "execution_count": 0,
   "metadata": {
    "colab": {
     "base_uri": "https://localhost:8080/",
     "height": 34
    },
    "colab_type": "code",
    "id": "lFqpLBarxM9T",
    "outputId": "2d912da2-9b9d-4e98-89c7-977fa0eedc9f"
   },
   "outputs": [
    {
     "name": "stdout",
     "output_type": "stream",
     "text": [
      "1 loop, best of 3: 5min 21s per loop\n"
     ]
    }
   ],
   "source": [
    " %%timeit\n",
    "\n",
    "epochs = 5\n",
    "\n",
    "for e in range(epochs):\n",
    "    for record in training_data_list:\n",
    "        \n",
    "        all_values = record.split(',')\n",
    "    \n",
    "        inputs = (numpy.asfarray(all_values[1:]) / 255.0 * 0.99) + 0.01\n",
    "      \n",
    "        targets = numpy.zeros(output_nodes) + 0.01\n",
    "        targets[int(all_values[0])] = 0.99\n",
    "        n.train(inputs, targets)\n",
    "        pass\n",
    "    pass"
   ]
  },
  {
   "cell_type": "code",
   "execution_count": 0,
   "metadata": {
    "colab": {},
    "colab_type": "code",
    "id": "ZxmKdgTjxhzL"
   },
   "outputs": [],
   "source": [
    "\n",
    "test_data_file = open(\"/content/drive/My Drive/mnist/mnist_test.csv\", 'r')\n",
    "test_data_list = test_data_file.readlines()\n",
    "test_data_file.close()"
   ]
  },
  {
   "cell_type": "code",
   "execution_count": 0,
   "metadata": {
    "colab": {},
    "colab_type": "code",
    "id": "Is1ILUgjx6HE"
   },
   "outputs": [],
   "source": [
    "scorecard = []\n",
    "\n",
    "\n",
    "for record in test_data_list:\n",
    "    all_values = record.split(',')\n",
    "  \n",
    "    correct_label = int(all_values[0])\n",
    "    inputs = (numpy.asfarray(all_values[1:]) / 255.0 * 0.99) + 0.01\n",
    "    outputs = n.forward(inputs)\n",
    "    m, label = outputs.max(1)\n",
    "    if (label.data[0] == correct_label):\n",
    "        scorecard.append(1)\n",
    "    else:\n",
    "        scorecard.append(0)\n",
    "        pass\n",
    "    \n",
    "    pass"
   ]
  },
  {
   "cell_type": "code",
   "execution_count": 0,
   "metadata": {
    "colab": {
     "base_uri": "https://localhost:8080/",
     "height": 34
    },
    "colab_type": "code",
    "id": "i4EIcMm5yAXW",
    "outputId": "fd5719ea-4570-446c-8d0b-7f99ad6c36ef"
   },
   "outputs": [
    {
     "name": "stdout",
     "output_type": "stream",
     "text": [
      "performance =  0.9833\n"
     ]
    }
   ],
   "source": [
    "\n",
    "scorecard_array = numpy.asarray(scorecard)\n",
    "print (\"performance = \", scorecard_array.sum() / scorecard_array.size)"
   ]
  },
  {
   "cell_type": "code",
   "execution_count": 0,
   "metadata": {
    "colab": {},
    "colab_type": "code",
    "id": "zcK5DR7lySDn"
   },
   "outputs": [],
   "source": []
  }
 ],
 "metadata": {
  "accelerator": "GPU",
  "colab": {
   "collapsed_sections": [],
   "name": "MNIST_CUDA.ipynb",
   "provenance": []
  },
  "kernelspec": {
   "display_name": "Python 3",
   "language": "python",
   "name": "python3"
  },
  "language_info": {
   "codemirror_mode": {
    "name": "ipython",
    "version": 3
   },
   "file_extension": ".py",
   "mimetype": "text/x-python",
   "name": "python",
   "nbconvert_exporter": "python",
   "pygments_lexer": "ipython3",
   "version": "3.7.4"
  }
 },
 "nbformat": 4,
 "nbformat_minor": 1
}
